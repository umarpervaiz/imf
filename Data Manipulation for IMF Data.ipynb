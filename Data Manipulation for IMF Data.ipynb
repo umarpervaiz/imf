{
 "cells": [
  {
   "cell_type": "code",
   "execution_count": 1,
   "metadata": {},
   "outputs": [],
   "source": [
    "import pandas as pd\n",
    "import numpy as np\n",
    "import os"
   ]
  },
  {
   "cell_type": "code",
   "execution_count": 442,
   "metadata": {},
   "outputs": [],
   "source": [
    "dt = pd.read_excel('/Desktop/IMF_Data.xlsx')"
   ]
  },
  {
   "cell_type": "code",
   "execution_count": 338,
   "metadata": {},
   "outputs": [],
   "source": [
    "# Combined the paramter names and their Units\n",
    "dt['Subject Descriptor']= dt[\"Subject Descriptor\"].astype(str) +\"  (\"+ dt[\"Units\"] + \")\""
   ]
  },
  {
   "cell_type": "code",
   "execution_count": 339,
   "metadata": {},
   "outputs": [],
   "source": [
    "# Removed the columns that are already covered in the combined column\n",
    "del dt['Units']\n",
    "del dt['Scale']"
   ]
  },
  {
   "cell_type": "code",
   "execution_count": 301,
   "metadata": {},
   "outputs": [],
   "source": [
    "# List of all the countries in the data\n",
    "countries = dt['Country'].unique()"
   ]
  },
  {
   "cell_type": "code",
   "execution_count": 438,
   "metadata": {},
   "outputs": [],
   "source": [
    "data = []\n",
    "for i in countries:\n",
    "    dat = dt[dt['Country'] == i]\n",
    "    dat = dat.iloc[:,1:29].T.assign(Country = i)\n",
    "    dat.columns = ['GDP(US Dollars Billion)','Average Consumer Prices (Index)', 'Unemployment rate (Percent of total labor force)','Gross government debt (Percent of GDP)', 'Current account balance (U.S. dollars)', 'Country']\n",
    "    data.append(dat)\n",
    "appended_data = pd.concat(data)\n",
    "df = appended_data.reset_index()\n",
    "df = df.drop(df[(df['index'] =='Estimates Start After' )].index)\n",
    "df = df.drop(df[(df['index'] =='Subject Descriptor' )].index)"
   ]
  },
  {
   "cell_type": "code",
   "execution_count": 441,
   "metadata": {},
   "outputs": [],
   "source": [
    "df.to_excel('Final_data.xlsx')"
   ]
  }
 ],
 "metadata": {
  "kernelspec": {
   "display_name": "Python 3",
   "language": "python",
   "name": "python3"
  },
  "language_info": {
   "codemirror_mode": {
    "name": "ipython",
    "version": 3
   },
   "file_extension": ".py",
   "mimetype": "text/x-python",
   "name": "python",
   "nbconvert_exporter": "python",
   "pygments_lexer": "ipython3",
   "version": "3.7.3"
  }
 },
 "nbformat": 4,
 "nbformat_minor": 2
}
